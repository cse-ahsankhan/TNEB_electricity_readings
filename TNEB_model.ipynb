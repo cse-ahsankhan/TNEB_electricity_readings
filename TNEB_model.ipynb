{
 "cells": [
  {
   "cell_type": "markdown",
   "metadata": {},
   "source": [
    "# Tamil Nadu Electricity Board \n",
    "\n",
    "*** Predictive model based on the house electricity meter reading done by the Tamil Nadu Electricity Board ***"
   ]
  },
  {
   "cell_type": "markdown",
   "metadata": {},
   "source": [
    "## Data Set Information:\n",
    "\n",
    "**Collect the real time readings for residential,commercial,industrial,agriculure,to find the accuracy consumption in Tamil Nadu Around Thanajvur**\n",
    "\n",
    "*** Attribute Information:***\n",
    "\n",
    "*** forkva,forkw,type,sector,service ***"
   ]
  },
  {
   "cell_type": "markdown",
   "metadata": {},
   "source": [
    "## Prediction Target:\n",
    "\n",
    "### The type of electricity connection"
   ]
  },
  {
   "cell_type": "code",
   "execution_count": 2,
   "metadata": {},
   "outputs": [],
   "source": [
    "#importing the essential libraries:\n",
    "\n",
    "#pandas, seaborn, matplotlib\n",
    "import pandas as pd\n",
    "import matplotlib.pyplot as plt\n",
    "import seaborn as sns\n",
    "\n",
    "#preporcessing tools\n",
    "from sklearn.model_selection import train_test_split\n",
    "from sklearn.preprocessing import LabelEncoder\n",
    "\n",
    "#accuracy score\n",
    "from sklearn.metrics import accuracy_score, explained_variance_score\n",
    "import warnings as wrn\n",
    "wrn.filterwarnings('ignore')"
   ]
  },
  {
   "cell_type": "code",
   "execution_count": 3,
   "metadata": {},
   "outputs": [],
   "source": [
    "#importing the dataset\n",
    "df = pd.read_csv('eb2.csv')"
   ]
  },
  {
   "cell_type": "code",
   "execution_count": 4,
   "metadata": {},
   "outputs": [
    {
     "name": "stdout",
     "output_type": "stream",
     "text": [
      "<class 'pandas.core.frame.DataFrame'>\n",
      "RangeIndex: 45781 entries, 0 to 45780\n",
      "Data columns (total 5 columns):\n",
      "ForkVA       45781 non-null float64\n",
      "ForkW        45781 non-null float64\n",
      "Type         45781 non-null object\n",
      "Sector       45781 non-null int64\n",
      "ServiceID    45781 non-null int64\n",
      "dtypes: float64(2), int64(2), object(1)\n",
      "memory usage: 1.7+ MB\n"
     ]
    }
   ],
   "source": [
    "#basic informations about the dataset\n",
    "df.info()"
   ]
  },
  {
   "cell_type": "code",
   "execution_count": 6,
   "metadata": {},
   "outputs": [
    {
     "data": {
      "text/html": [
       "<div>\n",
       "<style scoped>\n",
       "    .dataframe tbody tr th:only-of-type {\n",
       "        vertical-align: middle;\n",
       "    }\n",
       "\n",
       "    .dataframe tbody tr th {\n",
       "        vertical-align: top;\n",
       "    }\n",
       "\n",
       "    .dataframe thead th {\n",
       "        text-align: right;\n",
       "    }\n",
       "</style>\n",
       "<table border=\"1\" class=\"dataframe\">\n",
       "  <thead>\n",
       "    <tr style=\"text-align: right;\">\n",
       "      <th></th>\n",
       "      <th>ForkVA</th>\n",
       "      <th>ForkW</th>\n",
       "      <th>Sector</th>\n",
       "      <th>ServiceID</th>\n",
       "    </tr>\n",
       "  </thead>\n",
       "  <tbody>\n",
       "    <tr>\n",
       "      <th>count</th>\n",
       "      <td>45781.000000</td>\n",
       "      <td>45781.000000</td>\n",
       "      <td>45781.0</td>\n",
       "      <td>4.578100e+04</td>\n",
       "    </tr>\n",
       "    <tr>\n",
       "      <th>mean</th>\n",
       "      <td>0.500983</td>\n",
       "      <td>0.499639</td>\n",
       "      <td>1.0</td>\n",
       "      <td>7.651484e+08</td>\n",
       "    </tr>\n",
       "    <tr>\n",
       "      <th>std</th>\n",
       "      <td>0.288658</td>\n",
       "      <td>0.289301</td>\n",
       "      <td>0.0</td>\n",
       "      <td>9.235777e+08</td>\n",
       "    </tr>\n",
       "    <tr>\n",
       "      <th>min</th>\n",
       "      <td>0.000005</td>\n",
       "      <td>0.000018</td>\n",
       "      <td>1.0</td>\n",
       "      <td>1.983468e+08</td>\n",
       "    </tr>\n",
       "    <tr>\n",
       "      <th>25%</th>\n",
       "      <td>0.251389</td>\n",
       "      <td>0.250063</td>\n",
       "      <td>1.0</td>\n",
       "      <td>4.570085e+08</td>\n",
       "    </tr>\n",
       "    <tr>\n",
       "      <th>50%</th>\n",
       "      <td>0.500820</td>\n",
       "      <td>0.500357</td>\n",
       "      <td>1.0</td>\n",
       "      <td>6.001242e+08</td>\n",
       "    </tr>\n",
       "    <tr>\n",
       "      <th>75%</th>\n",
       "      <td>0.750885</td>\n",
       "      <td>0.749554</td>\n",
       "      <td>1.0</td>\n",
       "      <td>7.856432e+08</td>\n",
       "    </tr>\n",
       "    <tr>\n",
       "      <th>max</th>\n",
       "      <td>0.999996</td>\n",
       "      <td>0.999970</td>\n",
       "      <td>1.0</td>\n",
       "      <td>5.783457e+09</td>\n",
       "    </tr>\n",
       "  </tbody>\n",
       "</table>\n",
       "</div>"
      ],
      "text/plain": [
       "             ForkVA         ForkW   Sector     ServiceID\n",
       "count  45781.000000  45781.000000  45781.0  4.578100e+04\n",
       "mean       0.500983      0.499639      1.0  7.651484e+08\n",
       "std        0.288658      0.289301      0.0  9.235777e+08\n",
       "min        0.000005      0.000018      1.0  1.983468e+08\n",
       "25%        0.251389      0.250063      1.0  4.570085e+08\n",
       "50%        0.500820      0.500357      1.0  6.001242e+08\n",
       "75%        0.750885      0.749554      1.0  7.856432e+08\n",
       "max        0.999996      0.999970      1.0  5.783457e+09"
      ]
     },
     "execution_count": 6,
     "metadata": {},
     "output_type": "execute_result"
    }
   ],
   "source": [
    "#metadat about the dataset\n",
    "df.describe()"
   ]
  },
  {
   "cell_type": "code",
   "execution_count": 7,
   "metadata": {},
   "outputs": [
    {
     "data": {
      "text/html": [
       "<div>\n",
       "<style scoped>\n",
       "    .dataframe tbody tr th:only-of-type {\n",
       "        vertical-align: middle;\n",
       "    }\n",
       "\n",
       "    .dataframe tbody tr th {\n",
       "        vertical-align: top;\n",
       "    }\n",
       "\n",
       "    .dataframe thead th {\n",
       "        text-align: right;\n",
       "    }\n",
       "</style>\n",
       "<table border=\"1\" class=\"dataframe\">\n",
       "  <thead>\n",
       "    <tr style=\"text-align: right;\">\n",
       "      <th></th>\n",
       "      <th>ForkVA</th>\n",
       "      <th>ForkW</th>\n",
       "      <th>Type</th>\n",
       "      <th>Sector</th>\n",
       "      <th>ServiceID</th>\n",
       "    </tr>\n",
       "  </thead>\n",
       "  <tbody>\n",
       "    <tr>\n",
       "      <th>0</th>\n",
       "      <td>0.865936</td>\n",
       "      <td>0.143763</td>\n",
       "      <td>Bank</td>\n",
       "      <td>1</td>\n",
       "      <td>671004572</td>\n",
       "    </tr>\n",
       "    <tr>\n",
       "      <th>1</th>\n",
       "      <td>0.129804</td>\n",
       "      <td>0.088930</td>\n",
       "      <td>Bank</td>\n",
       "      <td>1</td>\n",
       "      <td>671004572</td>\n",
       "    </tr>\n",
       "    <tr>\n",
       "      <th>2</th>\n",
       "      <td>0.061801</td>\n",
       "      <td>0.552047</td>\n",
       "      <td>Bank</td>\n",
       "      <td>1</td>\n",
       "      <td>671004572</td>\n",
       "    </tr>\n",
       "    <tr>\n",
       "      <th>3</th>\n",
       "      <td>0.099116</td>\n",
       "      <td>0.848172</td>\n",
       "      <td>Bank</td>\n",
       "      <td>1</td>\n",
       "      <td>671004572</td>\n",
       "    </tr>\n",
       "    <tr>\n",
       "      <th>4</th>\n",
       "      <td>0.205704</td>\n",
       "      <td>0.624722</td>\n",
       "      <td>Bank</td>\n",
       "      <td>1</td>\n",
       "      <td>671004572</td>\n",
       "    </tr>\n",
       "  </tbody>\n",
       "</table>\n",
       "</div>"
      ],
      "text/plain": [
       "     ForkVA     ForkW  Type  Sector  ServiceID\n",
       "0  0.865936  0.143763  Bank       1  671004572\n",
       "1  0.129804  0.088930  Bank       1  671004572\n",
       "2  0.061801  0.552047  Bank       1  671004572\n",
       "3  0.099116  0.848172  Bank       1  671004572\n",
       "4  0.205704  0.624722  Bank       1  671004572"
      ]
     },
     "execution_count": 7,
     "metadata": {},
     "output_type": "execute_result"
    }
   ],
   "source": [
    "#printing the first five values\n",
    "df.head(5)"
   ]
  },
  {
   "cell_type": "markdown",
   "metadata": {},
   "source": [
    "*** So after studying the data we decide to create a correlation heatmap inorder to better understand the in attribute relation ***"
   ]
  },
  {
   "cell_type": "code",
   "execution_count": 9,
   "metadata": {},
   "outputs": [
    {
     "data": {
      "text/plain": [
       "<matplotlib.axes._subplots.AxesSubplot at 0x7fc041b3e898>"
      ]
     },
     "execution_count": 9,
     "metadata": {},
     "output_type": "execute_result"
    },
    {
     "data": {
      "image/png": "[encoded data removed]",
      "text/plain": [
       "<Figure size 432x288 with 2 Axes>"
      ]
     },
     "metadata": {},
     "output_type": "display_data"
    }
   ],
   "source": [
    "#plotting a correlation chart to see the relativity factor among the attributes\n",
    "sns.heatmap(df.corr(), annot=True, cmap='plasma')"
   ]
  },
  {
   "cell_type": "markdown",
   "metadata": {},
   "source": [
    "*** It was found that the ForkW and the Sector attributes have weak relationship with the type attribute that we are trying to predict ***"
   ]
  },
  {
   "cell_type": "code",
   "execution_count": 10,
   "metadata": {},
   "outputs": [],
   "source": [
    "#creating varibales to fit in the predictive model\n",
    "df = df.drop(['ForkW', 'Sector'], 1)\n",
    "X = df.drop(['Type'], 1)\n",
    "y = df['Type']"
   ]
  },
  {
   "cell_type": "code",
   "execution_count": 11,
   "metadata": {},
   "outputs": [
    {
     "data": {
      "text/plain": [
       "[<matplotlib.lines.Line2D at 0x7fc01920b908>,\n",
       " <matplotlib.lines.Line2D at 0x7fc01920b9b0>]"
      ]
     },
     "execution_count": 11,
     "metadata": {},
     "output_type": "execute_result"
    },
    {
     "data": {
      "image/png": "[encoded data removed]",
      "text/plain": [
       "<Figure size 432x288 with 1 Axes>"
      ]
     },
     "metadata": {},
     "output_type": "display_data"
    }
   ],
   "source": [
    "plt.plot(X,y)"
   ]
  },
  {
   "cell_type": "code",
   "execution_count": 12,
   "metadata": {},
   "outputs": [],
   "source": [
    "#creating a train and test varible set\n",
    "train_x, test_x, train_y, test_y = train_test_split(X, y, test_size = 20)"
   ]
  },
  {
   "cell_type": "code",
   "execution_count": 13,
   "metadata": {},
   "outputs": [
    {
     "name": "stdout",
     "output_type": "stream",
     "text": [
      "100.0\n"
     ]
    }
   ],
   "source": [
    "#applying the algorithm\n",
    "from xgboost import XGBClassifier as xgbc\n",
    "clf = xgbc()\n",
    "clf.fit(train_x, train_y)\n",
    "print(100*(accuracy_score(clf.predict(test_x), test_y)))"
   ]
  }
 ],
 "metadata": {
  "kernelspec": {
   "display_name": "Python 3",
   "language": "python",
   "name": "python3"
  },
  "language_info": {
   "codemirror_mode": {
    "name": "ipython",
    "version": 3
   },
   "file_extension": ".py",
   "mimetype": "text/x-python",
   "name": "python",
   "nbconvert_exporter": "python",
   "pygments_lexer": "ipython3",
   "version": "3.6.7"
  }
 },
 "nbformat": 4,
 "nbformat_minor": 2
}
